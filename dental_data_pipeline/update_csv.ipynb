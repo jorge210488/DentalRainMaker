{
 "cells": [
  {
   "cell_type": "code",
   "execution_count": 2,
   "metadata": {},
   "outputs": [
    {
     "name": "stdout",
     "output_type": "stream",
     "text": [
      "Archivo CSV generado: datasets_BI\\users.csv\n",
      "Archivo CSV generado: datasets_BI\\appointments.csv\n",
      "Actualización completada el 2025-01-16 10:12:00.574125.\n"
     ]
    }
   ],
   "source": [
    "import os\n",
    "import pandas as pd\n",
    "from pymongo import MongoClient\n",
    "from datetime import datetime\n",
    "from dotenv import load_dotenv\n",
    "\n",
    "# Cargar el archivo .env.mongo_credentials\n",
    "load_dotenv(dotenv_path='.env.mongo_credentials')\n",
    "\n",
    "# Obtener la URI de MongoDB desde la variable de entorno\n",
    "mongo_uri = os.getenv(\"MONGO_URI\")\n",
    "\n",
    "# Usar la URI para conectar a MongoDB\n",
    "client = MongoClient(mongo_uri)\n",
    "\n",
    "# Seleccionar la base de datos y las colecciones\n",
    "db = client[\"test\"]\n",
    "collection_users = db[\"users\"]\n",
    "collection_appointments = db[\"appointments\"]\n",
    "\n",
    "# Carpeta de salida\n",
    "OUTPUT_FOLDER = \"datasets_BI\"\n",
    "\n",
    "# Función para extraer datos y guardarlos como CSV\n",
    "def fetch_data_and_save_csv(collection, collection_name, output_folder):\n",
    "    \"\"\"\n",
    "    Extrae datos de una colección de MongoDB y los guarda como un archivo CSV.\n",
    "    \"\"\"\n",
    "    try:\n",
    "        # Extraer datos y convertir a DataFrame\n",
    "        data = list(collection.find())\n",
    "        if not data:\n",
    "            print(f\"La colección '{collection_name}' está vacía.\")\n",
    "            return\n",
    "\n",
    "        df = pd.DataFrame(data)\n",
    "\n",
    "        # Crear carpeta de salida si no existe\n",
    "        os.makedirs(output_folder, exist_ok=True)\n",
    "\n",
    "        # Guardar DataFrame como CSV\n",
    "        output_path = os.path.join(output_folder, f\"{collection_name}.csv\")\n",
    "        df.to_csv(output_path, index=False, encoding='utf-8')\n",
    "        print(f\"Archivo CSV generado: {output_path}\")\n",
    "\n",
    "    except Exception as e:\n",
    "        print(f\"Error al procesar la colección '{collection_name}': {e}\")\n",
    "\n",
    "# Función principal para actualizar las colecciones\n",
    "def main():\n",
    "    \"\"\"\n",
    "    Actualiza diariamente los archivos CSV desde MongoDB.\n",
    "    \"\"\"\n",
    "    # Actualizar las colecciones\n",
    "    fetch_data_and_save_csv(collection_users, \"users\", OUTPUT_FOLDER)\n",
    "    fetch_data_and_save_csv(collection_appointments, \"appointments\", OUTPUT_FOLDER)\n",
    "\n",
    "    print(f\"Actualización completada el {datetime.now()}.\")\n",
    "\n",
    "if __name__ == \"__main__\":\n",
    "    main()\n"
   ]
  }
 ],
 "metadata": {
  "kernelspec": {
   "display_name": "Python 3",
   "language": "python",
   "name": "python3"
  },
  "language_info": {
   "codemirror_mode": {
    "name": "ipython",
    "version": 3
   },
   "file_extension": ".py",
   "mimetype": "text/x-python",
   "name": "python",
   "nbconvert_exporter": "python",
   "pygments_lexer": "ipython3",
   "version": "3.12.2"
  }
 },
 "nbformat": 4,
 "nbformat_minor": 2
}
